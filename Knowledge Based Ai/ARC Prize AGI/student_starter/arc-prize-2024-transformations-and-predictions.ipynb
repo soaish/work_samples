{
 "cells": [
  {
   "cell_type": "code",
   "execution_count": 1,
   "id": "312a2a58",
   "metadata": {
    "_cell_guid": "b1076dfc-b9ad-4769-8c92-a6c4dae69d19",
    "_uuid": "8f2839f25d086af736a60e9eeb907d3b93b6e0e5",
    "execution": {
     "iopub.execute_input": "2024-10-01T07:40:52.324743Z",
     "iopub.status.busy": "2024-10-01T07:40:52.323635Z",
     "iopub.status.idle": "2024-10-01T07:40:54.672712Z",
     "shell.execute_reply": "2024-10-01T07:40:54.671382Z"
    },
    "papermill": {
     "duration": 2.358018,
     "end_time": "2024-10-01T07:40:54.675604",
     "exception": false,
     "start_time": "2024-10-01T07:40:52.317586",
     "status": "completed"
    },
    "tags": []
   },
   "outputs": [],
   "source": [
    "# Step 1: Importing Libraries\n",
    "import json\n",
    "import numpy as np\n",
    "import matplotlib.pyplot as plt  # For visualization\n",
    "import seaborn as sns  # For better visualizations"
   ]
  },
  {
   "cell_type": "code",
   "execution_count": 2,
   "id": "bf170e9f",
   "metadata": {
    "execution": {
     "iopub.execute_input": "2024-10-01T07:40:54.684570Z",
     "iopub.status.busy": "2024-10-01T07:40:54.684045Z",
     "iopub.status.idle": "2024-10-01T07:40:54.689352Z",
     "shell.execute_reply": "2024-10-01T07:40:54.688249Z"
    },
    "papermill": {
     "duration": 0.012408,
     "end_time": "2024-10-01T07:40:54.691959",
     "exception": false,
     "start_time": "2024-10-01T07:40:54.679551",
     "status": "completed"
    },
    "tags": []
   },
   "outputs": [],
   "source": [
    "training_challenges_path = \"/kaggle/input/arc-prize-2024/arc-agi_training_challenges.json\"\n",
    "training_solutions_path = \"/kaggle/input/arc-prize-2024/arc-agi_training_solutions.json\"\n",
    "test_challenges_path = \"/kaggle/input/arc-prize-2024/arc-agi_test_challenges.json\""
   ]
  },
  {
   "cell_type": "code",
   "execution_count": 3,
   "id": "c7504c53",
   "metadata": {
    "execution": {
     "iopub.execute_input": "2024-10-01T07:40:54.702451Z",
     "iopub.status.busy": "2024-10-01T07:40:54.702075Z",
     "iopub.status.idle": "2024-10-01T07:40:54.708537Z",
     "shell.execute_reply": "2024-10-01T07:40:54.707426Z"
    },
    "papermill": {
     "duration": 0.0144,
     "end_time": "2024-10-01T07:40:54.710905",
     "exception": false,
     "start_time": "2024-10-01T07:40:54.696505",
     "status": "completed"
    },
    "tags": []
   },
   "outputs": [],
   "source": [
    "# Step 2: Load Data\n",
    "def load_data(training_challenges_path, training_solutions_path, test_challenges_path):\n",
    "    with open(training_challenges_path) as f:\n",
    "        training_challenges = json.load(f)\n",
    "    with open(training_solutions_path) as f:\n",
    "        training_solutions = json.load(f)\n",
    "    with open(test_challenges_path) as f:\n",
    "        test_challenges = json.load(f)\n",
    "    return training_challenges, training_solutions, test_challenges"
   ]
  },
  {
   "cell_type": "code",
   "execution_count": 4,
   "id": "88122441",
   "metadata": {
    "execution": {
     "iopub.execute_input": "2024-10-01T07:40:54.719122Z",
     "iopub.status.busy": "2024-10-01T07:40:54.718795Z",
     "iopub.status.idle": "2024-10-01T07:40:54.728843Z",
     "shell.execute_reply": "2024-10-01T07:40:54.727837Z"
    },
    "papermill": {
     "duration": 0.016708,
     "end_time": "2024-10-01T07:40:54.731122",
     "exception": false,
     "start_time": "2024-10-01T07:40:54.714414",
     "status": "completed"
    },
    "tags": []
   },
   "outputs": [],
   "source": [
    "# Apply transformations: repeat, mirror, color change, symmetry\n",
    "def apply_transformations(input_grid):\n",
    "    input_array = np.array(input_grid)\n",
    "    \n",
    "    # Step 1: Repeat the grid (simple expansion)\n",
    "    repeated_grid = np.tile(input_array, (2, 2))\n",
    "    \n",
    "    # Step 2: Mirror - Reflect the grid horizontally and vertically\n",
    "    mirrored_horizontal = np.fliplr(input_array)\n",
    "    mirrored_vertical = np.flipud(input_array)\n",
    "    \n",
    "    # Step 3: Color change - Example: Replace '2' with '8'\n",
    "    color_changed_grid = np.where(input_array == 2, 8, input_array)\n",
    "    \n",
    "    # Step 4: Symmetry - Combine original and mirrored grids\n",
    "    symmetrical_grid = np.hstack((input_array, mirrored_horizontal))\n",
    "    symmetrical_grid = np.vstack((symmetrical_grid, np.hstack((mirrored_vertical, input_array))))\n",
    "    \n",
    "    # Ensure all grids are of the same size by trimming or padding\n",
    "    target_size = input_array.shape  # Original grid size\n",
    "    \n",
    "    def resize_grid(grid, target_size):\n",
    "        grid = np.array(grid)\n",
    "        current_size = grid.shape\n",
    "        if current_size != target_size:\n",
    "            return np.resize(grid, target_size)\n",
    "        return grid\n",
    "    \n",
    "    return {\n",
    "        \"repeated\": resize_grid(repeated_grid, target_size).tolist(),\n",
    "        \"mirrored_horizontal\": resize_grid(mirrored_horizontal, target_size).tolist(),\n",
    "        \"mirrored_vertical\": resize_grid(mirrored_vertical, target_size).tolist(),\n",
    "        \"color_changed\": resize_grid(color_changed_grid, target_size).tolist(),\n",
    "        \"symmetrical\": resize_grid(symmetrical_grid, target_size).tolist()\n",
    "    }"
   ]
  },
  {
   "cell_type": "code",
   "execution_count": 5,
   "id": "e1a82e5f",
   "metadata": {
    "execution": {
     "iopub.execute_input": "2024-10-01T07:40:54.739500Z",
     "iopub.status.busy": "2024-10-01T07:40:54.738815Z",
     "iopub.status.idle": "2024-10-01T07:40:54.748301Z",
     "shell.execute_reply": "2024-10-01T07:40:54.746582Z"
    },
    "papermill": {
     "duration": 0.017153,
     "end_time": "2024-10-01T07:40:54.751632",
     "exception": false,
     "start_time": "2024-10-01T07:40:54.734479",
     "status": "completed"
    },
    "tags": []
   },
   "outputs": [],
   "source": [
    "# Generate submission for test set\n",
    "def generate_submission(test_challenges, output_path=\"submission.json\"):\n",
    "    submission = {}\n",
    "    \n",
    "    for task_id, task_data in test_challenges.items():\n",
    "        input_grid = task_data[\"test\"][0][\"input\"]  # Single test case per task\n",
    "        transformed = apply_transformations(input_grid)\n",
    "        \n",
    "        # Ensure attempts are the same size as the original input grid\n",
    "        submission[task_id] = [{\n",
    "            \"attempt_1\": transformed[\"symmetrical\"],  # or any transformation of your choice\n",
    "            \"attempt_2\": transformed[\"color_changed\"]  # or another transformation\n",
    "        }]\n",
    "    \n",
    "    # Ensure the submission is valid before saving\n",
    "    for task_id, outputs in submission.items():\n",
    "        if len(outputs) != 1 or not outputs[0].get(\"attempt_1\") or not outputs[0].get(\"attempt_2\"):\n",
    "            print(f\"Warning: Task {task_id} has an invalid format. Check your transformations.\")\n",
    "    \n",
    "    # Save submission to JSON\n",
    "    with open(output_path, 'w') as f:\n",
    "        json.dump(submission, f, indent=4)  # Indent for readability\n",
    "    print(f\"Submission saved to {output_path}\")"
   ]
  },
  {
   "cell_type": "code",
   "execution_count": 6,
   "id": "d3e2c85c",
   "metadata": {
    "execution": {
     "iopub.execute_input": "2024-10-01T07:40:54.763921Z",
     "iopub.status.busy": "2024-10-01T07:40:54.762748Z",
     "iopub.status.idle": "2024-10-01T07:40:54.936030Z",
     "shell.execute_reply": "2024-10-01T07:40:54.934907Z"
    },
    "papermill": {
     "duration": 0.1823,
     "end_time": "2024-10-01T07:40:54.938697",
     "exception": false,
     "start_time": "2024-10-01T07:40:54.756397",
     "status": "completed"
    },
    "tags": []
   },
   "outputs": [],
   "source": [
    "# Load data\n",
    "training_challenges, training_solutions, test_challenges = load_data(training_challenges_path, training_solutions_path, test_challenges_path)"
   ]
  },
  {
   "cell_type": "code",
   "execution_count": 7,
   "id": "eb9f6bbe",
   "metadata": {
    "execution": {
     "iopub.execute_input": "2024-10-01T07:40:54.947516Z",
     "iopub.status.busy": "2024-10-01T07:40:54.946539Z",
     "iopub.status.idle": "2024-10-01T07:40:55.028600Z",
     "shell.execute_reply": "2024-10-01T07:40:55.027525Z"
    },
    "papermill": {
     "duration": 0.091411,
     "end_time": "2024-10-01T07:40:55.033599",
     "exception": false,
     "start_time": "2024-10-01T07:40:54.942188",
     "status": "completed"
    },
    "tags": []
   },
   "outputs": [
    {
     "name": "stdout",
     "output_type": "stream",
     "text": [
      "Submission saved to submission.json\n"
     ]
    }
   ],
   "source": [
    "generate_submission(test_challenges)"
   ]
  }
 ],
 "metadata": {
  "kaggle": {
   "accelerator": "none",
   "dataSources": [
    {
     "databundleVersionId": 8951125,
     "sourceId": 67357,
     "sourceType": "competition"
    }
   ],
   "dockerImageVersionId": 30775,
   "isGpuEnabled": false,
   "isInternetEnabled": false,
   "language": "python",
   "sourceType": "notebook"
  },
  "kernelspec": {
   "display_name": "Python 3",
   "language": "python",
   "name": "python3"
  },
  "language_info": {
   "codemirror_mode": {
    "name": "ipython",
    "version": 3
   },
   "file_extension": ".py",
   "mimetype": "text/x-python",
   "name": "python",
   "nbconvert_exporter": "python",
   "pygments_lexer": "ipython3",
   "version": "3.10.14"
  },
  "papermill": {
   "default_parameters": {},
   "duration": 6.050205,
   "end_time": "2024-10-01T07:40:55.556424",
   "environment_variables": {},
   "exception": null,
   "input_path": "__notebook__.ipynb",
   "output_path": "__notebook__.ipynb",
   "parameters": {},
   "start_time": "2024-10-01T07:40:49.506219",
   "version": "2.6.0"
  }
 },
 "nbformat": 4,
 "nbformat_minor": 5
}
